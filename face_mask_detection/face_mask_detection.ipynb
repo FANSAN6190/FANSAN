{
 "cells": [
  {
   "cell_type": "code",
   "execution_count": null,
   "id": "6955fb66",
   "metadata": {},
   "outputs": [],
   "source": []
  },
  {
   "cell_type": "code",
   "execution_count": 1,
   "id": "63115660",
   "metadata": {
    "scrolled": false
   },
   "outputs": [
    {
     "name": "stderr",
     "output_type": "stream",
     "text": [
      "2023-01-12 16:16:36.280123: I tensorflow/core/platform/cpu_feature_guard.cc:193] This TensorFlow binary is optimized with oneAPI Deep Neural Network Library (oneDNN) to use the following CPU instructions in performance-critical operations:  SSE4.1 SSE4.2 AVX AVX2 FMA\n",
      "To enable them in other operations, rebuild TensorFlow with the appropriate compiler flags.\n"
     ]
    },
    {
     "ename": "ImportError",
     "evalue": "cannot import name 'load_img' from 'keras.preprocessing.image' (/home/fansan/anaconda3/lib/python3.9/site-packages/keras/preprocessing/image.py)",
     "output_type": "error",
     "traceback": [
      "\u001b[0;31m---------------------------------------------------------------------------\u001b[0m",
      "\u001b[0;31mImportError\u001b[0m                               Traceback (most recent call last)",
      "\u001b[0;32m/tmp/ipykernel_3791/3006297047.py\u001b[0m in \u001b[0;36m<module>\u001b[0;34m\u001b[0m\n\u001b[1;32m      1\u001b[0m \u001b[0;32mimport\u001b[0m \u001b[0mcv2\u001b[0m\u001b[0;34m\u001b[0m\u001b[0;34m\u001b[0m\u001b[0m\n\u001b[1;32m      2\u001b[0m \u001b[0;32mfrom\u001b[0m \u001b[0mtensorflow\u001b[0m\u001b[0;34m.\u001b[0m\u001b[0mkeras\u001b[0m\u001b[0;34m.\u001b[0m\u001b[0mmodels\u001b[0m \u001b[0;32mimport\u001b[0m \u001b[0mload_model\u001b[0m\u001b[0;34m\u001b[0m\u001b[0;34m\u001b[0m\u001b[0m\n\u001b[0;32m----> 3\u001b[0;31m \u001b[0;32mfrom\u001b[0m \u001b[0mkeras\u001b[0m\u001b[0;34m.\u001b[0m\u001b[0mpreprocessing\u001b[0m\u001b[0;34m.\u001b[0m\u001b[0mimage\u001b[0m \u001b[0;32mimport\u001b[0m \u001b[0mload_img\u001b[0m\u001b[0;34m,\u001b[0m \u001b[0mimg_to_array\u001b[0m\u001b[0;34m\u001b[0m\u001b[0;34m\u001b[0m\u001b[0m\n\u001b[0m\u001b[1;32m      4\u001b[0m \u001b[0;32mimport\u001b[0m \u001b[0mnumpy\u001b[0m \u001b[0;32mas\u001b[0m \u001b[0mnp\u001b[0m\u001b[0;34m\u001b[0m\u001b[0;34m\u001b[0m\u001b[0m\n\u001b[1;32m      5\u001b[0m \u001b[0mmodel\u001b[0m\u001b[0;34m=\u001b[0m\u001b[0mload_model\u001b[0m\u001b[0;34m(\u001b[0m\u001b[0;34m'saved_model.h5'\u001b[0m\u001b[0;34m)\u001b[0m\u001b[0;34m\u001b[0m\u001b[0;34m\u001b[0m\u001b[0m\n",
      "\u001b[0;31mImportError\u001b[0m: cannot import name 'load_img' from 'keras.preprocessing.image' (/home/fansan/anaconda3/lib/python3.9/site-packages/keras/preprocessing/image.py)"
     ]
    }
   ],
   "source": [
    "import cv2\n",
    "from tensorflow.keras.models import load_model\n",
    "from keras.preprocessing.image import load_img, img_to_array \n",
    "import numpy as np\n",
    "model=load_model('saved_model.h5')\n",
    "img_width,img_height=150,150;\n",
    "\n",
    "face_cascade=cv2.CascadeClassifier('haarcascade_frontalface_default.xml')\n",
    "#cap=cv2.VideoCapture('video.mp4')\n",
    "cap=cv2.VideoCapture(0)\n",
    "img_count_full=0\n",
    "font=cv2.FONT_HERSHEY_SIMPLEX\n",
    "org=(1,1)\n",
    "class_label=''\n",
    "fontScale=1\n",
    "color=(255,0,0)\n",
    "thickness=2\n",
    "while True:\n",
    "    img_count_full+=1\n",
    "    response,color_img=cap.read()\n",
    "    if response==False:\n",
    "        break\n",
    "    scale=50\n",
    "    width=int(color_img.shape[1]*scale/100)\n",
    "    height=int(color_img.shape[0]*scale/100)\n",
    "    dim=(width,height)\n",
    "    color_img=cv2.resize(color_img,dim,interpolation=cv2.INTER_AREA)\n",
    "    gray_img=cv2.cvtColor(color_img,cv2.COLOR_BGR2GRAY)\n",
    "    faces=face_cascade.detectMultiScale(gray_img, 1.1, 6)\n",
    "    img_count=0\n",
    "    for (x,y,w,h) in faces:\n",
    "        org=(x-10,y-10)\n",
    "        img_count+=1\n",
    "        color_face=color_img[y:y+h,x:x+w]\n",
    "        cv2.imwrite('input/%d%dface.jpg'%(img_count_full,img_count),color_face)\n",
    "        img=load_img('input/%d%dface.jpg'%(img_count_full,img_count),target_size=(img_width,img_height))\n",
    "        img=img_to_array(img)\n",
    "        img=np.expand_dims(img,axis=0)\n",
    "        prediction=model.predict(img)\n",
    "        if prediction==0:\n",
    "            class_label=\"Mask\"\n",
    "            cv2.rectangle(color_img,(x,y),(x+w,y+h),(0,255,0),3)\n",
    "            color=(0,255,0)\n",
    "        else:\n",
    "            class_label=\"No_Mask\"\n",
    "            cv2.rectangle(color_img,(x,y),(x+w,y+h),(0,0,255),3)\n",
    "            color=(0,0,255)\n",
    "        cv2.rectangle(color_img,(x,y),(x+w,y+h),(255,0,0),3)\n",
    "        cv2.putText(color_img,class_label,org,font,fontScale,color,thickness,cv2.LINE_AA)\n",
    "    cv2.imshow('Face mask detection',color_img)\n",
    "    if cv2.waitKey(1)&0xFF==ord('q'):\n",
    "        break                     \n",
    "cap.release()\n",
    "cv2.destroyAllWindows()\n"
   ]
  },
  {
   "cell_type": "code",
   "execution_count": null,
   "id": "3e9920eb",
   "metadata": {},
   "outputs": [],
   "source": []
  }
 ],
 "metadata": {
  "kernelspec": {
   "display_name": "Python 3 (ipykernel)",
   "language": "python",
   "name": "python3"
  },
  "language_info": {
   "codemirror_mode": {
    "name": "ipython",
    "version": 3
   },
   "file_extension": ".py",
   "mimetype": "text/x-python",
   "name": "python",
   "nbconvert_exporter": "python",
   "pygments_lexer": "ipython3",
   "version": "3.9.7"
  }
 },
 "nbformat": 4,
 "nbformat_minor": 5
}
